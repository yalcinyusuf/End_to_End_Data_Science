{
  "nbformat": 4,
  "nbformat_minor": 0,
  "metadata": {
    "colab": {
      "name": "Untitled0.ipynb",
      "provenance": [],
      "collapsed_sections": []
    },
    "kernelspec": {
      "name": "python3",
      "display_name": "Python 3"
    },
    "language_info": {
      "name": "python"
    },
    "accelerator": "GPU",
    "gpuClass": "standard"
  },
  "cells": [
    {
      "cell_type": "code",
      "execution_count": null,
      "metadata": {
        "id": "WOogeCS3zDSi"
      },
      "outputs": [],
      "source": [
        "import numpy as np\n",
        "import pandas as pd\n",
        "import matplotlib.pyplot as plt\n",
        "import cv2\n",
        "import os\n",
        "import PIL\n",
        "import pathlib\n",
        "\n",
        "from sklearn.model_selection import train_test_split\n",
        "import tensorflow as tf\n",
        "from tensorflow import keras\n",
        "from tensorflow.keras.models import Sequential\n",
        "from tensorflow.keras.layers import Conv2D,Dense,Dropout, Flatten,Activation, BatchNormalization,MaxPooling2D\n",
        "from tensorflow.keras import datasets, layers, models\n",
        "from keras.preprocessing.image import load_img\n",
        "from keras.preprocessing.image import img_to_array"
      ]
    },
    {
      "cell_type": "code",
      "source": [
        "data_dir = pathlib.Path(\"/content/drive/MyDrive/Transfer_Learing/dogs_cats/PetImages\")"
      ],
      "metadata": {
        "id": "ePoyY2uZzXu3",
        "colab": {
          "base_uri": "https://localhost:8080/",
          "height": 165
        },
        "outputId": "cfe9bbea-4642-4909-b224-1cb12a87397a"
      },
      "execution_count": null,
      "outputs": [
        {
          "output_type": "error",
          "ename": "NameError",
          "evalue": "ignored",
          "traceback": [
            "\u001b[0;31m---------------------------------------------------------------------------\u001b[0m",
            "\u001b[0;31mNameError\u001b[0m                                 Traceback (most recent call last)",
            "\u001b[0;32m<ipython-input-1-ba541db191a2>\u001b[0m in \u001b[0;36m<module>\u001b[0;34m\u001b[0m\n\u001b[0;32m----> 1\u001b[0;31m \u001b[0mdata_dir\u001b[0m \u001b[0;34m=\u001b[0m \u001b[0mpathlib\u001b[0m\u001b[0;34m.\u001b[0m\u001b[0mPath\u001b[0m\u001b[0;34m(\u001b[0m\u001b[0;34m\"/content/drive/MyDrive/Transfer_Learing/dogs_cats/PetImages\"\u001b[0m\u001b[0;34m)\u001b[0m\u001b[0;34m\u001b[0m\u001b[0;34m\u001b[0m\u001b[0m\n\u001b[0m",
            "\u001b[0;31mNameError\u001b[0m: name 'pathlib' is not defined"
          ]
        }
      ]
    },
    {
      "cell_type": "code",
      "source": [
        "dogs = list(data_dir.glob('Dog/*'))"
      ],
      "metadata": {
        "id": "No_5ra3-zXxP"
      },
      "execution_count": null,
      "outputs": []
    },
    {
      "cell_type": "code",
      "source": [
        "cats = list(data_dir.glob('Cat/*'))"
      ],
      "metadata": {
        "id": "i81Dwn5yzXz8"
      },
      "execution_count": null,
      "outputs": []
    },
    {
      "cell_type": "code",
      "source": [
        "image_count = len(list(data_dir.glob('*/*.jpg')))"
      ],
      "metadata": {
        "id": "LXZZ70d8zX2W"
      },
      "execution_count": null,
      "outputs": []
    },
    {
      "cell_type": "code",
      "source": [
        "image_count"
      ],
      "metadata": {
        "id": "95Bw57KOzX42"
      },
      "execution_count": null,
      "outputs": []
    },
    {
      "cell_type": "code",
      "source": [
        "pet_images_dict = {\n",
        "    'cats': list(data_dir.glob('Cat/*')),\n",
        "    'dogs': list(data_dir.glob('Dog/*')),\n",
        "}\n",
        "\n",
        "pet_labels_dict = {\n",
        "    'cats': 0,\n",
        "    'dogs': 1,\n",
        "}"
      ],
      "metadata": {
        "id": "CVHo6_m9zX7K"
      },
      "execution_count": null,
      "outputs": []
    },
    {
      "cell_type": "code",
      "source": [
        "IMAGE_WIDTH=150\n",
        "IMAGE_HEIGHT=150\n",
        "X, Y = [], []\n",
        "\n",
        "for pet_name, images in pet_images_dict.items():\n",
        "    print(pet_name)\n",
        "    for image in images:\n",
        "        img = cv2.imread(str(image))\n",
        "        if isinstance(img,type(None)): \n",
        "            continue\n",
        "            \n",
        "        elif ((img.shape[0] >= IMAGE_HEIGHT) and  (img.shape[1] >=IMAGE_WIDTH)):\n",
        "            resized_img = cv2.resize(img,(IMAGE_WIDTH,IMAGE_HEIGHT))\n",
        "            X.append(resized_img)\n",
        "            Y.append(pet_labels_dict[pet_name])\n",
        "        else:\n",
        "            continue"
      ],
      "metadata": {
        "id": "6lxm6lV9zX9v"
      },
      "execution_count": null,
      "outputs": []
    },
    {
      "cell_type": "code",
      "source": [
        "X = np.array(X)\n",
        "Y = np.array(Y)"
      ],
      "metadata": {
        "id": "Hs-rr7kSzYAP"
      },
      "execution_count": null,
      "outputs": []
    },
    {
      "cell_type": "code",
      "source": [
        "X= X/255"
      ],
      "metadata": {
        "id": "BhQPVl7uzYDH"
      },
      "execution_count": null,
      "outputs": []
    },
    {
      "cell_type": "code",
      "source": [
        "X_train, X_test, Y_train, Y_test = train_test_split(X, Y, random_state=0)"
      ],
      "metadata": {
        "id": "ghYVRa1qzYFi"
      },
      "execution_count": null,
      "outputs": []
    },
    {
      "cell_type": "code",
      "source": [
        "X_train, X_val, Y_train, Y_val = train_test_split(X_train, Y_train, random_state=42)"
      ],
      "metadata": {
        "id": "o6HEiRHxzYIM"
      },
      "execution_count": null,
      "outputs": []
    },
    {
      "cell_type": "code",
      "source": [
        "vgg19 = tf.keras.applications.VGG19(\n",
        "    include_top = False, \n",
        "    weights = 'imagenet', \n",
        "    input_tensor = None,\n",
        "    input_shape = (150,150,3), \n",
        "    pooling = None, \n",
        "    classes = 1000\n",
        ")"
      ],
      "metadata": {
        "id": "i7uQJkDyzYLB"
      },
      "execution_count": null,
      "outputs": []
    },
    {
      "cell_type": "code",
      "source": [
        "vgg19.trainable = False"
      ],
      "metadata": {
        "id": "iWxrWh32zYN4"
      },
      "execution_count": null,
      "outputs": []
    },
    {
      "cell_type": "code",
      "source": [
        "model_vgg = tf.keras.models.Sequential([\n",
        "    \n",
        "    vgg19,\n",
        "    tf.keras.layers.Conv2D(128, kernel_size = (3, 3), padding = 'same'),\n",
        "    tf.keras.layers.PReLU(alpha_initializer='zeros'),# modifying final layers of VGG-19\n",
        "    tf.keras.layers.Conv2D(64, kernel_size = (3, 3), padding = 'same'),\n",
        "    tf.keras.layers.PReLU(alpha_initializer='zeros'),\n",
        "    tf.keras.layers.Flatten(),\n",
        "    tf.keras.layers.Dense(100),\n",
        "    tf.keras.layers.PReLU(alpha_initializer='zeros'),\n",
        "    tf.keras.layers.Dense(1, activation = 'sigmoid')\n",
        "])"
      ],
      "metadata": {
        "id": "l-EqwLIFzYQP"
      },
      "execution_count": null,
      "outputs": []
    },
    {
      "cell_type": "code",
      "source": [
        "import tensorflow_addons as tfa"
      ],
      "metadata": {
        "id": "7rhiq55IzYTV"
      },
      "execution_count": null,
      "outputs": []
    },
    {
      "cell_type": "code",
      "source": [
        "metrics = ['accuracy']"
      ],
      "metadata": {
        "id": "gkzo8C0AzYV4"
      },
      "execution_count": null,
      "outputs": []
    },
    {
      "cell_type": "code",
      "source": [
        "model_vgg.compile(loss = 'binary_crossentropy', optimizer = 'adam', metrics = metrics)\n",
        "model_vgg.summary()"
      ],
      "metadata": {
        "id": "hGXqdKHTzYco"
      },
      "execution_count": null,
      "outputs": []
    },
    {
      "cell_type": "code",
      "source": [],
      "metadata": {
        "id": "SFwut4qSzYfc"
      },
      "execution_count": null,
      "outputs": []
    },
    {
      "cell_type": "code",
      "source": [],
      "metadata": {
        "id": "hhfqsfgezYiW"
      },
      "execution_count": null,
      "outputs": []
    },
    {
      "cell_type": "code",
      "source": [],
      "metadata": {
        "id": "tlWFjV0XzYk1"
      },
      "execution_count": null,
      "outputs": []
    },
    {
      "cell_type": "code",
      "source": [
        "history_vgg = model_vgg.fit(\n",
        "    X_train,y_train,\n",
        "    epochs = 30,\n",
        "    validation_data = (X_val, Y_val),\n",
        "    batch_size=32,\n",
        "    verbose = 1)"
      ],
      "metadata": {
        "id": "6X6L7xcOzYnj"
      },
      "execution_count": null,
      "outputs": []
    },
    {
      "cell_type": "code",
      "source": [],
      "metadata": {
        "id": "JSiZdnTVzYqD"
      },
      "execution_count": null,
      "outputs": []
    },
    {
      "cell_type": "code",
      "source": [],
      "metadata": {
        "id": "tyG4xMSQzYs-"
      },
      "execution_count": null,
      "outputs": []
    },
    {
      "cell_type": "code",
      "source": [],
      "metadata": {
        "id": "utkt22jdzYvm"
      },
      "execution_count": null,
      "outputs": []
    },
    {
      "cell_type": "code",
      "source": [],
      "metadata": {
        "id": "jIxn2qLrzYyJ"
      },
      "execution_count": null,
      "outputs": []
    },
    {
      "cell_type": "code",
      "source": [],
      "metadata": {
        "id": "9Cf1Hc_rzY1C"
      },
      "execution_count": null,
      "outputs": []
    },
    {
      "cell_type": "code",
      "source": [],
      "metadata": {
        "id": "CL7HkIgNzY3u"
      },
      "execution_count": null,
      "outputs": []
    },
    {
      "cell_type": "code",
      "source": [],
      "metadata": {
        "id": "LAqRM5p6zY6W"
      },
      "execution_count": null,
      "outputs": []
    },
    {
      "cell_type": "code",
      "source": [],
      "metadata": {
        "id": "YiE6DW78zY9C"
      },
      "execution_count": null,
      "outputs": []
    },
    {
      "cell_type": "code",
      "source": [],
      "metadata": {
        "id": "q5lG_0r-zY_e"
      },
      "execution_count": null,
      "outputs": []
    },
    {
      "cell_type": "code",
      "source": [],
      "metadata": {
        "id": "5wXO25kgzZCB"
      },
      "execution_count": null,
      "outputs": []
    }
  ]
}